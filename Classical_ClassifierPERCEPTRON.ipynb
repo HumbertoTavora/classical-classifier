{
  "cells": [
    {
      "cell_type": "code",
      "execution_count": 2,
      "metadata": {
        "id": "KxBuxJ6RvwSe"
      },
      "outputs": [],
      "source": [
        "import tensorflow as tf\n",
        "import matplotlib.pyplot as plt\n",
        "import numpy as np\n",
        "import os\n",
        "import cv2\n",
        "from sklearn.preprocessing import LabelEncoder, OneHotEncoder\n",
        "from keras.preprocessing import image\n",
        "from keras.preprocessing.image import load_img\n",
        "from sklearn.compose import ColumnTransformer\n",
        "from sklearn.utils import shuffle\n",
        "from sklearn.model_selection import train_test_split\n",
        "\n",
        "tf.compat.v1.disable_eager_execution()"
      ]
    },
    {
      "cell_type": "markdown",
      "metadata": {},
      "source": [
        "Funcionalidade das bibliotecas que foram utilizadas:\n",
        "\n",
        "- Numpy: Facilita algumas operações e manipulações matematicas, e permite a captura da forma vetorial das imagens.\n",
        "- os: Fornece algumas funções de manipulação do proprio sistema operacional que foram uteis para testes feitos antes da integração com a base de dados.\n",
        "- Matplotlib: Fornece funções para plotar os graficos do comportamento do erro calculado ao longo do tempo\n",
        "- cv2: Permite o redimensionamento das imagens.\n",
        "- sklearn: Biblioteca de aprendizagem de maquina da qual foi utilizada as funções que auxiliaram no processamento dos dados de entrada\n",
        "- TensorFlow: Biblioteca matematica e estatistica usada para implementar o perceptron\n",
        "\n",
        "\n",
        "\n"
      ]
    },
    {
      "cell_type": "markdown",
      "metadata": {},
      "source": [
        "Considerando uma implementação através de manipulação de arquivos para a base de dados:"
      ]
    },
    {
      "cell_type": "markdown",
      "metadata": {},
      "source": [
        "É pego a lista de diretórios do caminho atual, e então atribuido a uma lista. Esses diretórios são as categorias de veiculos que serão avaliadas, no caso, Aviões e Barcos."
      ]
    },
    {
      "cell_type": "code",
      "execution_count": 3,
      "metadata": {
        "colab": {
          "base_uri": "https://localhost:8080/",
          "height": 183
        },
        "id": "UA42YrR5v8QZ",
        "outputId": "3106339f-19b1-45e9-bd29-46f9bb39e06a"
      },
      "outputs": [
        {
          "data": {
            "text/plain": [
              "['airplanes', 'ship']"
            ]
          },
          "execution_count": 3,
          "metadata": {},
          "output_type": "execute_result"
        }
      ],
      "source": [
        "vehicle_types = os.listdir('Dataset/imgs//')\n",
        "vehicle_types"
      ]
    },
    {
      "cell_type": "markdown",
      "metadata": {},
      "source": [
        "Então, para cada diretório que foi descoberto é feita uma varredura, e atribuida cada imagem que está no formato jpg para a lista de imagens, e a sua categoria correspondente para a lista de labels."
      ]
    },
    {
      "cell_type": "code",
      "execution_count": 4,
      "metadata": {},
      "outputs": [
        {
          "name": "stdout",
          "output_type": "stream",
          "text": [
            "['airplane1.jpg', 'airplane10.jpg', 'airplane11.jpg', 'airplane13.jpg', 'airplane14.jpg', 'airplane15.jpg', 'airplane16.jpg', 'airplane17.jpg', 'airplane19.jpg', 'airplane2.jpg', 'airplane20.jpg', 'airplane21.jpg', 'airplane22.jpg', 'airplane23.jpg', 'airplane25.jpg', 'airplane26.jpg', 'airplane27.jpg', 'airplane28.jpg', 'airplane29.jpg', 'airplane3.jpg', 'airplane31.jpg', 'airplane32.jpg', 'airplane33.jpg', 'airplane34.jpg', 'airplane35.jpg', 'airplane37.jpg', 'airplane38.jpg', 'airplane39.jpg', 'airplane4.jpg', 'airplane40.jpg', 'airplane41.jpg', 'airplane45.jpg', 'airplane46.jpg', 'airplane47.jpg', 'airplane49.jpg', 'airplane5.jpg', 'airplane50.jpg', 'airplane7.jpg', 'airplane8.jpg', 'airplane9.jpg']\n",
            "['299281.jpg', '299795.jpg', '299796.jpg', '299803.jpg', '299806.jpg', '317425.jpg', '337456.jpg', '382937.jpg', '389050.jpg', '427198.jpg', '554491.jpg', '560394.jpg', '563043.jpg', '565155.jpg', '567270.jpg', '567497.jpg', '567503.jpg', '573909.jpg', '580622.jpg', '584420.jpg', '588714.jpg', '592464.jpg', '596100.jpg', '597091.jpg', '597093.jpg', '608667.jpg', '609331.jpg', '609340.jpg', '613277.jpg', '613378.jpg', '615647.jpg', '615653.jpg', '615655.jpg', '615663.jpg', '619242.jpg', '619245.jpg', '619248.jpg', '619363.jpg', '619771.jpg', '619964.jpg']\n"
          ]
        }
      ],
      "source": [
        "path = 'Dataset/imgs//'\n",
        "\n",
        "sizeExpected = 16\n",
        "\n",
        "images = []\n",
        "labels = []\n",
        "\n",
        "for i in vehicle_types:\n",
        "    data_path = path + str(i)\n",
        "    filenames = [i for i in os.listdir(data_path) if i.endswith('.jpg')]\n",
        "    print(filenames)\n",
        "    for f in filenames:\n",
        "        img = cv2.imread(data_path + '/' + f)\n",
        "        img = cv2.cvtColor(img, cv2.COLOR_BGR2GRAY)\n",
        "        img = cv2.resize(img,(sizeExpected, sizeExpected))\n",
        "        images.append(img)\n",
        "        labels.append(i)"
      ]
    },
    {
      "cell_type": "markdown",
      "metadata": {},
      "source": [
        "Com isso, pode-se converter as imagens em questão para sua forma vetorial, garantir que estejam no formato correto (Float32) e sobre a escala de cinza\n",
        "\n",
        "Com a função shape podemos ver que o primeiro elemento da 3-tupla é a quantidade de imagens que foram pegas, os proximos dois são a dimensão que foi escolhida para análise."
      ]
    },
    {
      "cell_type": "code",
      "execution_count": 5,
      "metadata": {},
      "outputs": [
        {
          "data": {
            "text/plain": [
              "(80, 16, 16)"
            ]
          },
          "execution_count": 5,
          "metadata": {},
          "output_type": "execute_result"
        }
      ],
      "source": [
        "images = np.array(images)\n",
        "images = images.astype('float32')/255\n",
        "images.shape"
      ]
    },
    {
      "cell_type": "markdown",
      "metadata": {},
      "source": [
        "Com as funções fornecidas pela biblioteca sklearn podemos começar a criação e atribuição de labels para o treinamento. Dessa forma, a variavel x recebe a lista de imagens pegas, e a y recebe a lista binária de labels (o que permite que as labels sejam \"entendidas\" pelo computador), onde no nosso caso, seria:\n",
        "- 0 para Aviões\n",
        "- 1 para Barcos."
      ]
    },
    {
      "cell_type": "code",
      "execution_count": 6,
      "metadata": {},
      "outputs": [
        {
          "name": "stdout",
          "output_type": "stream",
          "text": [
            "[0 0 0 0 0 0 0 0 0 0 0 0 0 0 0 0 0 0 0 0 0 0 0 0 0 0 0 0 0 0 0 0 0 0 0 0 0\n",
            " 0 0 0 1 1 1 1 1 1 1 1 1 1 1 1 1 1 1 1 1 1 1 1 1 1 1 1 1 1 1 1 1 1 1 1 1 1\n",
            " 1 1 1 1 1 1]\n"
          ]
        }
      ],
      "source": [
        "x = images\n",
        "y = labels\n",
        "y_labelEncoder = LabelEncoder()\n",
        "y = y_labelEncoder.fit_transform(y)\n",
        "print(y)"
      ]
    },
    {
      "cell_type": "markdown",
      "metadata": {},
      "source": [
        "Nesse momento é separado as labels em duas classes já que precisamos de duas colunas de classificação."
      ]
    },
    {
      "cell_type": "code",
      "execution_count": 7,
      "metadata": {},
      "outputs": [
        {
          "name": "stdout",
          "output_type": "stream",
          "text": [
            "[[1. 0.]\n",
            " [1. 0.]\n",
            " [1. 0.]\n",
            " [1. 0.]\n",
            " [1. 0.]\n",
            " [1. 0.]\n",
            " [1. 0.]\n",
            " [1. 0.]\n",
            " [1. 0.]\n",
            " [1. 0.]\n",
            " [1. 0.]\n",
            " [1. 0.]\n",
            " [1. 0.]\n",
            " [1. 0.]\n",
            " [1. 0.]\n",
            " [1. 0.]\n",
            " [1. 0.]\n",
            " [1. 0.]\n",
            " [1. 0.]\n",
            " [1. 0.]\n",
            " [1. 0.]\n",
            " [1. 0.]\n",
            " [1. 0.]\n",
            " [1. 0.]\n",
            " [1. 0.]\n",
            " [1. 0.]\n",
            " [1. 0.]\n",
            " [1. 0.]\n",
            " [1. 0.]\n",
            " [1. 0.]\n",
            " [1. 0.]\n",
            " [1. 0.]\n",
            " [1. 0.]\n",
            " [1. 0.]\n",
            " [1. 0.]\n",
            " [1. 0.]\n",
            " [1. 0.]\n",
            " [1. 0.]\n",
            " [1. 0.]\n",
            " [1. 0.]\n",
            " [0. 1.]\n",
            " [0. 1.]\n",
            " [0. 1.]\n",
            " [0. 1.]\n",
            " [0. 1.]\n",
            " [0. 1.]\n",
            " [0. 1.]\n",
            " [0. 1.]\n",
            " [0. 1.]\n",
            " [0. 1.]\n",
            " [0. 1.]\n",
            " [0. 1.]\n",
            " [0. 1.]\n",
            " [0. 1.]\n",
            " [0. 1.]\n",
            " [0. 1.]\n",
            " [0. 1.]\n",
            " [0. 1.]\n",
            " [0. 1.]\n",
            " [0. 1.]\n",
            " [0. 1.]\n",
            " [0. 1.]\n",
            " [0. 1.]\n",
            " [0. 1.]\n",
            " [0. 1.]\n",
            " [0. 1.]\n",
            " [0. 1.]\n",
            " [0. 1.]\n",
            " [0. 1.]\n",
            " [0. 1.]\n",
            " [0. 1.]\n",
            " [0. 1.]\n",
            " [0. 1.]\n",
            " [0. 1.]\n",
            " [0. 1.]\n",
            " [0. 1.]\n",
            " [0. 1.]\n",
            " [0. 1.]\n",
            " [0. 1.]\n",
            " [0. 1.]]\n"
          ]
        }
      ],
      "source": [
        "y = y.reshape(-1,1)\n",
        "\n",
        "ct = ColumnTransformer([('my_ohe', OneHotEncoder(), [0])], remainder='passthrough')\n",
        "y = ct.fit_transform(y)\n",
        "print(y)"
      ]
    },
    {
      "cell_type": "markdown",
      "metadata": {},
      "source": [
        "Neste momento é feita a separação entre treino e teste."
      ]
    },
    {
      "cell_type": "code",
      "execution_count": 8,
      "metadata": {},
      "outputs": [],
      "source": [
        "x,Y = shuffle(x,y, random_state=1)\n",
        "train_x, test_x, train_y, test_y = train_test_split(images, Y, test_size=0.375, random_state=415)"
      ]
    },
    {
      "cell_type": "code",
      "execution_count": 9,
      "metadata": {},
      "outputs": [
        {
          "name": "stdout",
          "output_type": "stream",
          "text": [
            "(50, 16, 16)\n",
            "(50, 2)\n",
            "(30, 16, 16)\n",
            "(30, 2)\n"
          ]
        }
      ],
      "source": [
        "print(train_x.shape)\n",
        "print(train_y.shape)\n",
        "print(test_x.shape)\n",
        "print(test_y.shape)"
      ]
    },
    {
      "cell_type": "markdown",
      "metadata": {},
      "source": [
        "Como o objetivo é utilizar um perceptron para resolver o problema da classificação, precisamos transformar o formato da imagem para apenas uma dimensão. Dessa forma, temos que:\n",
        "\n",
        "Nova dimensão = (n, r * r)\n",
        "\n",
        "Sendo o n o valor do primeiro elemento da 3-tupla da célula anterior (o numero de imagens do treino e do teste), e r o numéro que redimensionamos a imagem anteriormente.\n",
        "\n",
        "Logo:\n",
        "- Para o treino:    Nova dimensão = (50, 256)\n",
        "- Para o teste:     Nova dimensão = (30, 256)"
      ]
    },
    {
      "cell_type": "code",
      "execution_count": 10,
      "metadata": {},
      "outputs": [
        {
          "name": "stdout",
          "output_type": "stream",
          "text": [
            "(50, 256)\n"
          ]
        },
        {
          "data": {
            "text/plain": [
              "(30, 256)"
            ]
          },
          "execution_count": 10,
          "metadata": {},
          "output_type": "execute_result"
        }
      ],
      "source": [
        "train_x=np.reshape(train_x,(50,256))\n",
        "print(train_x.shape)\n",
        "\n",
        "test_x=np.reshape(test_x,(30,256))\n",
        "test_x.shape"
      ]
    },
    {
      "cell_type": "markdown",
      "metadata": {},
      "source": [
        "Com isso, podemos começar a implementação do perceptron com o auxilio do tensorflow. Primeiro é definida algumas variaveis importantes que seram usadas na implementação da rede, e do treinamento:\n",
        "- A taxa de aprendizado = 0.1\n",
        "- Quantidade de epocas = 30\n",
        "- Numero de classes possiveis para classificação. (Aviões ou Barcos)\n",
        "\n",
        "Então, podemos definir as variaveis que seram usadas na implementação do perceptron em si, seguindo as variaveis da equação conhecida:\n",
        "\n",
        "wi.xi + b <= 0\n",
        "\n",
        "Dessa forma, definimos:\n",
        "- O vetor de pesos W\n",
        "- O vetor de entrada X\n",
        "- O valor do bias como um valor aleatório\n",
        "- O formato da saida y como duas possiveis classes\n"
      ]
    },
    {
      "cell_type": "code",
      "execution_count": 11,
      "metadata": {},
      "outputs": [],
      "source": [
        "learning_rate = 0.10\n",
        "training_epochs = 100\n",
        "n_class=2\n",
        "\n",
        "\n",
        "Perceptron_x = tf.compat.v1.placeholder(tf.float32, [None, 256])\n",
        "Perceptron_W = tf.Variable(tf.zeros([256,n_class]))\n",
        "Perceptron_b = tf.Variable(tf.zeros([n_class]))\n",
        "Perceptron_y = tf.compat.v1.placeholder(tf.float32,[None,n_class]) "
      ]
    },
    {
      "cell_type": "markdown",
      "metadata": {},
      "source": [
        "Podemos então definir o perceptron como a equação já mencionada e as variaveis definidas, além da função de erro e do passo de treinamento:"
      ]
    },
    {
      "cell_type": "code",
      "execution_count": 12,
      "metadata": {},
      "outputs": [],
      "source": [
        "init = tf.compat.v1.global_variables_initializer()\n",
        "pred = tf.nn.softmax(tf.matmul(Perceptron_x, Perceptron_W)+ Perceptron_b) # perceptron\n",
        " \n",
        "error_function = tf.reduce_mean(tf.nn.softmax_cross_entropy_with_logits(logits=pred, labels=Perceptron_y)) \n",
        "training_step = tf.compat.v1.train.GradientDescentOptimizer(learning_rate).minimize(error_function)\n"
      ]
    },
    {
      "cell_type": "markdown",
      "metadata": {},
      "source": [
        "Com tudo pronto, podemos iniciar o treinamento da nossa rede perceptron. Nele, podemos ver o valor do erro (custo) calculado para cada epoca, e adicionaremos cada erro a uma lista para podemos ver o comportamento do erro ao longo do tempo."
      ]
    },
    {
      "cell_type": "code",
      "execution_count": 13,
      "metadata": {},
      "outputs": [],
      "source": [
        "\n",
        "sess = tf.compat.v1.Session()\n",
        "sess.run(init)\n",
        "\n",
        "cost_history = []"
      ]
    },
    {
      "cell_type": "code",
      "execution_count": 14,
      "metadata": {},
      "outputs": [
        {
          "name": "stdout",
          "output_type": "stream",
          "text": [
            "epoch :  1  -  cost:  0.6899784\n",
            "epoch :  2  -  cost:  0.6870388\n",
            "epoch :  3  -  cost:  0.68415904\n",
            "epoch :  4  -  cost:  0.6813374\n",
            "epoch :  5  -  cost:  0.6785744\n",
            "epoch :  6  -  cost:  0.67586935\n",
            "epoch :  7  -  cost:  0.67322236\n",
            "epoch :  8  -  cost:  0.67063284\n",
            "epoch :  9  -  cost:  0.6680998\n",
            "epoch :  10  -  cost:  0.6656227\n",
            "epoch :  11  -  cost:  0.66320044\n",
            "epoch :  12  -  cost:  0.6608319\n",
            "epoch :  13  -  cost:  0.6585159\n",
            "epoch :  14  -  cost:  0.65625113\n",
            "epoch :  15  -  cost:  0.65403634\n",
            "epoch :  16  -  cost:  0.65187025\n",
            "epoch :  17  -  cost:  0.6497515\n",
            "epoch :  18  -  cost:  0.64767855\n",
            "epoch :  19  -  cost:  0.64565015\n",
            "epoch :  20  -  cost:  0.643665\n",
            "epoch :  21  -  cost:  0.64172167\n",
            "epoch :  22  -  cost:  0.63981885\n",
            "epoch :  23  -  cost:  0.6379551\n",
            "epoch :  24  -  cost:  0.63612944\n",
            "epoch :  25  -  cost:  0.63434035\n",
            "epoch :  26  -  cost:  0.6325867\n",
            "epoch :  27  -  cost:  0.63086736\n",
            "epoch :  28  -  cost:  0.62918115\n",
            "epoch :  29  -  cost:  0.62752694\n",
            "epoch :  30  -  cost:  0.6259037\n",
            "epoch :  31  -  cost:  0.6243104\n",
            "epoch :  32  -  cost:  0.62274605\n",
            "epoch :  33  -  cost:  0.6212096\n",
            "epoch :  34  -  cost:  0.6197004\n",
            "epoch :  35  -  cost:  0.61821723\n",
            "epoch :  36  -  cost:  0.6167595\n",
            "epoch :  37  -  cost:  0.6153262\n",
            "epoch :  38  -  cost:  0.61391675\n",
            "epoch :  39  -  cost:  0.61253023\n",
            "epoch :  40  -  cost:  0.6111661\n",
            "epoch :  41  -  cost:  0.6098235\n",
            "epoch :  42  -  cost:  0.6085019\n",
            "epoch :  43  -  cost:  0.60720056\n",
            "epoch :  44  -  cost:  0.60591894\n",
            "epoch :  45  -  cost:  0.60465646\n",
            "epoch :  46  -  cost:  0.60341257\n",
            "epoch :  47  -  cost:  0.6021867\n",
            "epoch :  48  -  cost:  0.6009783\n",
            "epoch :  49  -  cost:  0.599787\n",
            "epoch :  50  -  cost:  0.59861225\n",
            "epoch :  51  -  cost:  0.59745353\n",
            "epoch :  52  -  cost:  0.59631056\n",
            "epoch :  53  -  cost:  0.59518284\n",
            "epoch :  54  -  cost:  0.5940699\n",
            "epoch :  55  -  cost:  0.5929715\n",
            "epoch :  56  -  cost:  0.59188706\n",
            "epoch :  57  -  cost:  0.59081644\n",
            "epoch :  58  -  cost:  0.58975923\n",
            "epoch :  59  -  cost:  0.5887151\n",
            "epoch :  60  -  cost:  0.58768356\n",
            "epoch :  61  -  cost:  0.58666456\n",
            "epoch :  62  -  cost:  0.58565766\n",
            "epoch :  63  -  cost:  0.5846626\n",
            "epoch :  64  -  cost:  0.58367914\n",
            "epoch :  65  -  cost:  0.5827069\n",
            "epoch :  66  -  cost:  0.58174574\n",
            "epoch :  67  -  cost:  0.5807954\n",
            "epoch :  68  -  cost:  0.5798556\n",
            "epoch :  69  -  cost:  0.57892615\n",
            "epoch :  70  -  cost:  0.5780067\n",
            "epoch :  71  -  cost:  0.5770972\n",
            "epoch :  72  -  cost:  0.5761974\n",
            "epoch :  73  -  cost:  0.57530695\n",
            "epoch :  74  -  cost:  0.5744258\n",
            "epoch :  75  -  cost:  0.5735538\n",
            "epoch :  76  -  cost:  0.57269067\n",
            "epoch :  77  -  cost:  0.5718362\n",
            "epoch :  78  -  cost:  0.5709902\n",
            "epoch :  79  -  cost:  0.57015264\n",
            "epoch :  80  -  cost:  0.5693233\n",
            "epoch :  81  -  cost:  0.56850195\n",
            "epoch :  82  -  cost:  0.56768847\n",
            "epoch :  83  -  cost:  0.5668827\n",
            "epoch :  84  -  cost:  0.5660846\n",
            "epoch :  85  -  cost:  0.5652939\n",
            "epoch :  86  -  cost:  0.5645105\n",
            "epoch :  87  -  cost:  0.5637343\n",
            "epoch :  88  -  cost:  0.56296504\n",
            "epoch :  89  -  cost:  0.56220275\n",
            "epoch :  90  -  cost:  0.5614472\n",
            "epoch :  91  -  cost:  0.56069833\n",
            "epoch :  92  -  cost:  0.55995595\n",
            "epoch :  93  -  cost:  0.55922014\n",
            "epoch :  94  -  cost:  0.5584905\n",
            "epoch :  95  -  cost:  0.5577671\n",
            "epoch :  96  -  cost:  0.5570498\n",
            "epoch :  97  -  cost:  0.5563385\n",
            "epoch :  98  -  cost:  0.55563307\n",
            "epoch :  99  -  cost:  0.5549334\n",
            "epoch :  100  -  cost:  0.55423945\n"
          ]
        }
      ],
      "source": [
        "for epoch in range(training_epochs):\n",
        "    sess.run(training_step,feed_dict={Perceptron_x:train_x,Perceptron_y:train_y})\n",
        "    cost = sess.run(error_function,feed_dict={Perceptron_x: train_x,Perceptron_y: train_y})\n",
        "    cost_history = np.append(cost_history,cost)\n",
        "    print('epoch : ', epoch+1,  ' - ', 'cost: ', cost)\n"
      ]
    },
    {
      "cell_type": "markdown",
      "metadata": {},
      "source": [
        "Com isso, podemos ver que alcançamos um custo final de aproximadamente 0.63. Um gráfico mostrando o comportamento do valor do custo ao longo das epocas pode ser visto abaixo:\n",
        "\n"
      ]
    },
    {
      "cell_type": "code",
      "execution_count": 15,
      "metadata": {},
      "outputs": [
        {
          "data": {
            "image/png": "[encoded data removed]",
            "text/plain": [
              "<Figure size 432x288 with 1 Axes>"
            ]
          },
          "metadata": {
            "needs_background": "light"
          },
          "output_type": "display_data"
        }
      ],
      "source": [
        "fig, ax = plt.subplots()\n",
        "ax.plot(cost_history, label='Cost function')\n",
        "ax.legend()\n",
        "ax.grid(color='grey', linestyle='--', linewidth=0.6, axis='y')\n",
        "ax.set_facecolor('#FBF8D5')\n",
        "ax.set_ylabel('Cost')\n",
        "ax.set_xlabel('Epoch')\n",
        "plt.show()"
      ]
    },
    {
      "cell_type": "markdown",
      "metadata": {},
      "source": [
        "Depois do treinamento, podemos então fazer uma tentativa de previsão. Primeiro realizo o tratamento da imagem necessário para usar a função de previsão da estruta perceptron criada:\n"
      ]
    },
    {
      "cell_type": "code",
      "execution_count": 16,
      "metadata": {},
      "outputs": [
        {
          "name": "stdout",
          "output_type": "stream",
          "text": [
            "(16, 16)\n"
          ]
        }
      ],
      "source": [
        "img = cv2.imread('test4.jpg')\n",
        "img = cv2.cvtColor(img, cv2.COLOR_BGR2GRAY)\n",
        "img = cv2.resize(img,(sizeExpected, sizeExpected))\n",
        "img = np.array(img)\n",
        "\n",
        "print(img.shape)\n",
        "image = np.reshape(img,(1,256))"
      ]
    },
    {
      "cell_type": "markdown",
      "metadata": {},
      "source": [
        "Então realizamos a previsão:"
      ]
    },
    {
      "cell_type": "code",
      "execution_count": 17,
      "metadata": {},
      "outputs": [
        {
          "name": "stdout",
          "output_type": "stream",
          "text": [
            "[[0. 1.]]\n",
            "Barco\n"
          ]
        }
      ],
      "source": [
        "result = sess.run(pred, feed_dict={Perceptron_x: image})\n",
        "print(result)\n",
        "\n",
        "if(result[0][0] > result[0][1]):\n",
        "    print(\"Avião\")\n",
        "else:\n",
        "    print(\"Barco\")"
      ]
    }
  ],
  "metadata": {
    "colab": {
      "name": "Classical-Classifier.ipynb",
      "provenance": []
    },
    "kernelspec": {
      "display_name": "Python 3",
      "name": "python3"
    },
    "language_info": {
      "codemirror_mode": {
        "name": "ipython",
        "version": 3
      },
      "file_extension": ".py",
      "mimetype": "text/x-python",
      "name": "python",
      "nbconvert_exporter": "python",
      "pygments_lexer": "ipython3",
      "version": "3.10.2"
    }
  },
  "nbformat": 4,
  "nbformat_minor": 0
}
