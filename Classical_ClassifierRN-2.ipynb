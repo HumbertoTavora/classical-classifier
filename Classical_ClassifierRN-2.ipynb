{
 "cells": [
  {
   "cell_type": "code",
   "execution_count": 11,
   "metadata": {},
   "outputs": [
    {
     "name": "stdout",
     "output_type": "stream",
     "text": [
      "TensorFlow Version: 2.8.0\n",
      "Keras Version: 2.8.0\n"
     ]
    }
   ],
   "source": [
    "import tensorflow as tf\n",
    "import keras as K\n",
    "import numpy as np\n",
    "import matplotlib.pyplot as plt\n",
    "import os\n",
    "import cv2\n",
    "from sklearn.preprocessing import LabelEncoder, OneHotEncoder\n",
    "from sklearn.compose import ColumnTransformer\n",
    "from sklearn.utils import shuffle\n",
    "from sklearn.model_selection import train_test_split\n",
    "from keras.models import Sequential\n",
    "from keras.preprocessing import image\n",
    "from keras.preprocessing.image import load_img\n",
    "from keras.layers import Conv2D\n",
    "from keras.layers import MaxPooling2D\n",
    "from keras.layers import Flatten\n",
    "from keras.layers import Dense\n",
    "\n",
    "print(\"TensorFlow Version:\",tf.__version__)\n",
    "print(\"Keras Version:\",K.__version__)"
   ]
  },
  {
   "cell_type": "markdown",
   "metadata": {},
   "source": [
    "As bibliotecas utilizadas são semelhantes a implementação do perceptron, com exceção da Keras que facilitou a implementação da rede neural não precisando utilizar o TensorFlow."
   ]
  },
  {
   "cell_type": "markdown",
   "metadata": {},
   "source": [
    "Todo o processamento de dados é semelhante ao caso da implementação da rede singlePerceptron."
   ]
  },
  {
   "cell_type": "code",
   "execution_count": 12,
   "metadata": {},
   "outputs": [
    {
     "name": "stdout",
     "output_type": "stream",
     "text": [
      "['airplane1.jpg', 'airplane10.jpg', 'airplane11.jpg', 'airplane13.jpg', 'airplane14.jpg', 'airplane15.jpg', 'airplane16.jpg', 'airplane17.jpg', 'airplane19.jpg', 'airplane2.jpg', 'airplane20.jpg', 'airplane21.jpg', 'airplane22.jpg', 'airplane23.jpg', 'airplane25.jpg', 'airplane26.jpg', 'airplane27.jpg', 'airplane28.jpg', 'airplane29.jpg', 'airplane3.jpg', 'airplane31.jpg', 'airplane32.jpg', 'airplane33.jpg', 'airplane34.jpg', 'airplane35.jpg', 'airplane37.jpg', 'airplane38.jpg', 'airplane39.jpg', 'airplane4.jpg', 'airplane40.jpg', 'airplane41.jpg', 'airplane45.jpg', 'airplane46.jpg', 'airplane47.jpg', 'airplane49.jpg', 'airplane5.jpg', 'airplane50.jpg', 'airplane7.jpg', 'airplane8.jpg', 'airplane9.jpg']\n",
      "['299281.jpg', '299795.jpg', '299796.jpg', '299803.jpg', '299806.jpg', '317425.jpg', '337456.jpg', '382937.jpg', '389050.jpg', '427198.jpg', '554491.jpg', '560394.jpg', '563043.jpg', '565155.jpg', '567270.jpg', '567497.jpg', '567503.jpg', '573909.jpg', '580622.jpg', '584420.jpg', '588714.jpg', '592464.jpg', '596100.jpg', '597091.jpg', '597093.jpg', '608667.jpg', '609331.jpg', '609340.jpg', '613277.jpg', '613378.jpg', '615647.jpg', '615653.jpg', '615655.jpg', '615663.jpg', '619242.jpg', '619245.jpg', '619248.jpg', '619363.jpg', '619771.jpg', '619964.jpg']\n",
      "['airplanes', 'airplanes', 'airplanes', 'airplanes', 'airplanes', 'airplanes', 'airplanes', 'airplanes', 'airplanes', 'airplanes', 'airplanes', 'airplanes', 'airplanes', 'airplanes', 'airplanes', 'airplanes', 'airplanes', 'airplanes', 'airplanes', 'airplanes', 'airplanes', 'airplanes', 'airplanes', 'airplanes', 'airplanes', 'airplanes', 'airplanes', 'airplanes', 'airplanes', 'airplanes', 'airplanes', 'airplanes', 'airplanes', 'airplanes', 'airplanes', 'airplanes', 'airplanes', 'airplanes', 'airplanes', 'airplanes', 'ship', 'ship', 'ship', 'ship', 'ship', 'ship', 'ship', 'ship', 'ship', 'ship', 'ship', 'ship', 'ship', 'ship', 'ship', 'ship', 'ship', 'ship', 'ship', 'ship', 'ship', 'ship', 'ship', 'ship', 'ship', 'ship', 'ship', 'ship', 'ship', 'ship', 'ship', 'ship', 'ship', 'ship', 'ship', 'ship', 'ship', 'ship', 'ship', 'ship']\n",
      "[0 0 0 0 0 0 0 0 0 0 0 0 0 0 0 0 0 0 0 0 0 0 0 0 0 0 0 0 0 0 0 0 0 0 0 0 0\n",
      " 0 0 0 1 1 1 1 1 1 1 1 1 1 1 1 1 1 1 1 1 1 1 1 1 1 1 1 1 1 1 1 1 1 1 1 1 1\n",
      " 1 1 1 1 1 1]\n",
      "(50, 16, 16)\n",
      "(50,)\n",
      "(30, 16, 16)\n",
      "(30,)\n"
     ]
    }
   ],
   "source": [
    "vehicle_types = os.listdir('Dataset/imgs//')\n",
    "path = 'Dataset/imgs//'\n",
    "\n",
    "sizeExpected = 16\n",
    "\n",
    "images = []\n",
    "labels = []\n",
    "cost_history = []\n",
    "\n",
    "for i in vehicle_types:\n",
    "    data_path = path + str(i)\n",
    "    filenames = [i for i in os.listdir(data_path) if i.endswith('.jpg')]\n",
    "    print(filenames)\n",
    "    for f in filenames:\n",
    "        img = cv2.imread(data_path + '/' + f)\n",
    "        img = cv2.cvtColor(img, cv2.COLOR_BGR2GRAY)\n",
    "        img = cv2.resize(img,(sizeExpected, sizeExpected))\n",
    "        images.append(img)\n",
    "        labels.append(i)\n",
    "\n",
    "images = np.array(images)\n",
    "images = images.astype('float32')/255\n",
    "images.shape\n",
    "\n",
    "x = images\n",
    "y = labels\n",
    "print(y)\n",
    "y_labelEncoder = LabelEncoder()\n",
    "y = y_labelEncoder.fit_transform(y)\n",
    "print(y)\n",
    "x,Y = shuffle(x,y, random_state=1)\n",
    "train_x, test_x, train_y, test_y = train_test_split(images, y, test_size=0.375, random_state=415)\n",
    "\n",
    "print(train_x.shape)\n",
    "print(train_y.shape)\n",
    "print(test_x.shape)\n",
    "print(test_y.shape)"
   ]
  },
  {
   "cell_type": "markdown",
   "metadata": {},
   "source": [
    "Com os dados tratados, podemos então iniciar a implementação da rede neural convulacional."
   ]
  },
  {
   "cell_type": "code",
   "execution_count": 13,
   "metadata": {},
   "outputs": [],
   "source": [
    "classifier = Sequential()"
   ]
  },
  {
   "cell_type": "markdown",
   "metadata": {},
   "source": [
    "Aqui criamos a arquitetura da nossa rede, adicionando:\n",
    "- Duas camadas de convulação, e a cada uma delas, uma camda de pooling. \n",
    "- Aplicamos uma camada de de achatamento para converter a saida de duas dimensões da camada anterior em uma dimensão. Até então temos a camada de entrada.\n",
    "- Adicionamos uma camada escondida de 128 unidades, com função de ativação relu.\n",
    "- E então, uma camada de saida, com as duas classes como unidades."
   ]
  },
  {
   "cell_type": "code",
   "execution_count": 14,
   "metadata": {},
   "outputs": [],
   "source": [
    "classifier.add(Conv2D(32, (3, 3), input_shape = (16, 16, 1), activation = 'relu'))\n",
    "classifier.add(MaxPooling2D(pool_size = (2, 2)))\n",
    "classifier.add(Conv2D(32, (3, 3), activation = tf.nn.relu))\n",
    "classifier.add(MaxPooling2D(pool_size = (2, 2)))\n",
    "classifier.add(Flatten())\n",
    "classifier.add(Dense(units = 128, activation = tf.nn.relu))\n",
    "classifier.add(Dense(units = 64, activation = tf.nn.relu))\n",
    "classifier.add(Dense(units = 2, activation = tf.nn.softmax))"
   ]
  },
  {
   "cell_type": "markdown",
   "metadata": {},
   "source": [
    "Então, compilamos a nossa rede, utilizando o otimizador ADAM."
   ]
  },
  {
   "cell_type": "code",
   "execution_count": 15,
   "metadata": {},
   "outputs": [],
   "source": [
    "classifier.compile(optimizer = 'adam', loss = 'sparse_categorical_crossentropy', metrics = ['accuracy'])"
   ]
  },
  {
   "cell_type": "markdown",
   "metadata": {},
   "source": [
    "Definimos uma função de callback executada no final de cada epoca para guardar o valor do erro calculado em uma lista a fim de posteriormente plota-lo em um grafico e compara-lo com as outras implementações."
   ]
  },
  {
   "cell_type": "code",
   "execution_count": 16,
   "metadata": {},
   "outputs": [],
   "source": [
    "class myCallback(tf.keras.callbacks.Callback):\n",
    "    def on_epoch_end(self,epoch,logs={}):\n",
    "        cost_history.append(logs.get('loss'))"
   ]
  },
  {
   "cell_type": "markdown",
   "metadata": {},
   "source": [
    "Iniciamos então o treinamento da nossa rede, considerando o mesmo valor de epocas que foi usado na rede single perceptron e utilizando como callback a função que definimos acima:"
   ]
  },
  {
   "cell_type": "code",
   "execution_count": 17,
   "metadata": {},
   "outputs": [
    {
     "name": "stdout",
     "output_type": "stream",
     "text": [
      "Epoch 1/100\n",
      "2/2 [==============================] - 1s 7ms/step - loss: 0.6918 - accuracy: 0.4600\n",
      "Epoch 2/100\n",
      "2/2 [==============================] - 0s 7ms/step - loss: 0.6740 - accuracy: 0.5800\n",
      "Epoch 3/100\n",
      "2/2 [==============================] - 0s 7ms/step - loss: 0.6641 - accuracy: 0.5800\n",
      "Epoch 4/100\n",
      "2/2 [==============================] - 0s 7ms/step - loss: 0.6530 - accuracy: 0.6000\n",
      "Epoch 5/100\n",
      "2/2 [==============================] - 0s 7ms/step - loss: 0.6541 - accuracy: 0.7200\n",
      "Epoch 6/100\n",
      "2/2 [==============================] - 0s 7ms/step - loss: 0.6400 - accuracy: 0.7000\n",
      "Epoch 7/100\n",
      "2/2 [==============================] - 0s 6ms/step - loss: 0.6248 - accuracy: 0.6400\n",
      "Epoch 8/100\n",
      "2/2 [==============================] - 0s 7ms/step - loss: 0.6097 - accuracy: 0.6800\n",
      "Epoch 9/100\n",
      "2/2 [==============================] - 0s 6ms/step - loss: 0.6030 - accuracy: 0.8000\n",
      "Epoch 10/100\n",
      "2/2 [==============================] - 0s 6ms/step - loss: 0.5852 - accuracy: 0.8000\n",
      "Epoch 11/100\n",
      "2/2 [==============================] - 0s 6ms/step - loss: 0.5715 - accuracy: 0.8000\n",
      "Epoch 12/100\n",
      "2/2 [==============================] - 0s 6ms/step - loss: 0.5479 - accuracy: 0.8200\n",
      "Epoch 13/100\n",
      "2/2 [==============================] - 0s 6ms/step - loss: 0.5353 - accuracy: 0.8400\n",
      "Epoch 14/100\n",
      "2/2 [==============================] - 0s 7ms/step - loss: 0.5157 - accuracy: 0.8600\n",
      "Epoch 15/100\n",
      "2/2 [==============================] - 0s 8ms/step - loss: 0.5007 - accuracy: 0.8000\n",
      "Epoch 16/100\n",
      "2/2 [==============================] - 0s 6ms/step - loss: 0.4915 - accuracy: 0.8000\n",
      "Epoch 17/100\n",
      "2/2 [==============================] - 0s 6ms/step - loss: 0.4650 - accuracy: 0.8400\n",
      "Epoch 18/100\n",
      "2/2 [==============================] - 0s 6ms/step - loss: 0.4663 - accuracy: 0.7600\n",
      "Epoch 19/100\n",
      "2/2 [==============================] - 0s 5ms/step - loss: 0.4385 - accuracy: 0.8600\n",
      "Epoch 20/100\n",
      "2/2 [==============================] - 0s 8ms/step - loss: 0.4323 - accuracy: 0.8400\n",
      "Epoch 21/100\n",
      "2/2 [==============================] - 0s 7ms/step - loss: 0.4087 - accuracy: 0.8600\n",
      "Epoch 22/100\n",
      "2/2 [==============================] - 0s 8ms/step - loss: 0.4123 - accuracy: 0.8400\n",
      "Epoch 23/100\n",
      "2/2 [==============================] - 0s 6ms/step - loss: 0.3862 - accuracy: 0.8600\n",
      "Epoch 24/100\n",
      "2/2 [==============================] - 0s 7ms/step - loss: 0.3747 - accuracy: 0.9000\n",
      "Epoch 25/100\n",
      "2/2 [==============================] - 0s 7ms/step - loss: 0.3590 - accuracy: 0.8800\n",
      "Epoch 26/100\n",
      "2/2 [==============================] - 0s 6ms/step - loss: 0.3493 - accuracy: 0.9000\n",
      "Epoch 27/100\n",
      "2/2 [==============================] - 0s 8ms/step - loss: 0.3303 - accuracy: 0.9000\n",
      "Epoch 28/100\n",
      "2/2 [==============================] - 0s 6ms/step - loss: 0.3191 - accuracy: 0.8800\n",
      "Epoch 29/100\n",
      "2/2 [==============================] - 0s 7ms/step - loss: 0.2956 - accuracy: 0.8800\n",
      "Epoch 30/100\n",
      "2/2 [==============================] - 0s 7ms/step - loss: 0.2973 - accuracy: 0.9000\n",
      "Epoch 31/100\n",
      "2/2 [==============================] - 0s 8ms/step - loss: 0.2773 - accuracy: 0.9000\n",
      "Epoch 32/100\n",
      "2/2 [==============================] - 0s 6ms/step - loss: 0.2669 - accuracy: 0.9000\n",
      "Epoch 33/100\n",
      "2/2 [==============================] - 0s 7ms/step - loss: 0.2670 - accuracy: 0.9200\n",
      "Epoch 34/100\n",
      "2/2 [==============================] - 0s 7ms/step - loss: 0.2533 - accuracy: 0.9200\n",
      "Epoch 35/100\n",
      "2/2 [==============================] - 0s 7ms/step - loss: 0.2439 - accuracy: 0.9200\n",
      "Epoch 36/100\n",
      "2/2 [==============================] - 0s 5ms/step - loss: 0.2163 - accuracy: 0.9400\n",
      "Epoch 37/100\n",
      "2/2 [==============================] - 0s 6ms/step - loss: 0.2005 - accuracy: 0.9600\n",
      "Epoch 38/100\n",
      "2/2 [==============================] - 0s 6ms/step - loss: 0.2041 - accuracy: 0.9400\n",
      "Epoch 39/100\n",
      "2/2 [==============================] - 0s 7ms/step - loss: 0.1958 - accuracy: 0.9600\n",
      "Epoch 40/100\n",
      "2/2 [==============================] - 0s 5ms/step - loss: 0.1756 - accuracy: 0.9600\n",
      "Epoch 41/100\n",
      "2/2 [==============================] - 0s 7ms/step - loss: 0.1794 - accuracy: 0.9600\n",
      "Epoch 42/100\n",
      "2/2 [==============================] - 0s 7ms/step - loss: 0.1688 - accuracy: 0.9600\n",
      "Epoch 43/100\n",
      "2/2 [==============================] - 0s 7ms/step - loss: 0.1574 - accuracy: 0.9600\n",
      "Epoch 44/100\n",
      "2/2 [==============================] - 0s 6ms/step - loss: 0.1401 - accuracy: 0.9600\n",
      "Epoch 45/100\n",
      "2/2 [==============================] - 0s 6ms/step - loss: 0.1329 - accuracy: 0.9600\n",
      "Epoch 46/100\n",
      "2/2 [==============================] - 0s 6ms/step - loss: 0.1256 - accuracy: 0.9600\n",
      "Epoch 47/100\n",
      "2/2 [==============================] - 0s 7ms/step - loss: 0.1168 - accuracy: 0.9800\n",
      "Epoch 48/100\n",
      "2/2 [==============================] - 0s 6ms/step - loss: 0.1095 - accuracy: 0.9600\n",
      "Epoch 49/100\n",
      "2/2 [==============================] - 0s 7ms/step - loss: 0.1006 - accuracy: 0.9800\n",
      "Epoch 50/100\n",
      "2/2 [==============================] - 0s 5ms/step - loss: 0.0876 - accuracy: 0.9800\n",
      "Epoch 51/100\n",
      "2/2 [==============================] - 0s 5ms/step - loss: 0.0825 - accuracy: 0.9800\n",
      "Epoch 52/100\n",
      "2/2 [==============================] - 0s 5ms/step - loss: 0.0730 - accuracy: 0.9800\n",
      "Epoch 53/100\n",
      "2/2 [==============================] - 0s 6ms/step - loss: 0.0686 - accuracy: 0.9800\n",
      "Epoch 54/100\n",
      "2/2 [==============================] - 0s 6ms/step - loss: 0.0601 - accuracy: 1.0000\n",
      "Epoch 55/100\n",
      "2/2 [==============================] - 0s 7ms/step - loss: 0.0530 - accuracy: 1.0000\n",
      "Epoch 56/100\n",
      "2/2 [==============================] - 0s 6ms/step - loss: 0.0486 - accuracy: 1.0000\n",
      "Epoch 57/100\n",
      "2/2 [==============================] - 0s 8ms/step - loss: 0.0429 - accuracy: 1.0000\n",
      "Epoch 58/100\n",
      "2/2 [==============================] - 0s 7ms/step - loss: 0.0404 - accuracy: 1.0000\n",
      "Epoch 59/100\n",
      "2/2 [==============================] - 0s 6ms/step - loss: 0.0336 - accuracy: 1.0000\n",
      "Epoch 60/100\n",
      "2/2 [==============================] - 0s 6ms/step - loss: 0.0336 - accuracy: 1.0000\n",
      "Epoch 61/100\n",
      "2/2 [==============================] - 0s 8ms/step - loss: 0.0276 - accuracy: 1.0000\n",
      "Epoch 62/100\n",
      "2/2 [==============================] - 0s 7ms/step - loss: 0.0281 - accuracy: 1.0000\n",
      "Epoch 63/100\n",
      "2/2 [==============================] - 0s 7ms/step - loss: 0.0243 - accuracy: 1.0000\n",
      "Epoch 64/100\n",
      "2/2 [==============================] - 0s 6ms/step - loss: 0.0212 - accuracy: 1.0000\n",
      "Epoch 65/100\n",
      "2/2 [==============================] - 0s 7ms/step - loss: 0.0183 - accuracy: 1.0000\n",
      "Epoch 66/100\n",
      "2/2 [==============================] - 0s 5ms/step - loss: 0.0165 - accuracy: 1.0000\n",
      "Epoch 67/100\n",
      "2/2 [==============================] - 0s 6ms/step - loss: 0.0143 - accuracy: 1.0000\n",
      "Epoch 68/100\n",
      "2/2 [==============================] - 0s 7ms/step - loss: 0.0131 - accuracy: 1.0000\n",
      "Epoch 69/100\n",
      "2/2 [==============================] - 0s 6ms/step - loss: 0.0122 - accuracy: 1.0000\n",
      "Epoch 70/100\n",
      "2/2 [==============================] - 0s 8ms/step - loss: 0.0107 - accuracy: 1.0000\n",
      "Epoch 71/100\n",
      "2/2 [==============================] - 0s 6ms/step - loss: 0.0095 - accuracy: 1.0000\n",
      "Epoch 72/100\n",
      "2/2 [==============================] - 0s 6ms/step - loss: 0.0089 - accuracy: 1.0000\n",
      "Epoch 73/100\n",
      "2/2 [==============================] - 0s 7ms/step - loss: 0.0081 - accuracy: 1.0000\n",
      "Epoch 74/100\n",
      "2/2 [==============================] - 0s 7ms/step - loss: 0.0076 - accuracy: 1.0000\n",
      "Epoch 75/100\n",
      "2/2 [==============================] - 0s 7ms/step - loss: 0.0073 - accuracy: 1.0000\n",
      "Epoch 76/100\n",
      "2/2 [==============================] - 0s 6ms/step - loss: 0.0065 - accuracy: 1.0000\n",
      "Epoch 77/100\n",
      "2/2 [==============================] - 0s 7ms/step - loss: 0.0062 - accuracy: 1.0000\n",
      "Epoch 78/100\n",
      "2/2 [==============================] - 0s 6ms/step - loss: 0.0058 - accuracy: 1.0000\n",
      "Epoch 79/100\n",
      "2/2 [==============================] - 0s 7ms/step - loss: 0.0055 - accuracy: 1.0000\n",
      "Epoch 80/100\n",
      "2/2 [==============================] - 0s 10ms/step - loss: 0.0051 - accuracy: 1.0000\n",
      "Epoch 81/100\n",
      "2/2 [==============================] - 0s 6ms/step - loss: 0.0049 - accuracy: 1.0000\n",
      "Epoch 82/100\n",
      "2/2 [==============================] - 0s 6ms/step - loss: 0.0048 - accuracy: 1.0000\n",
      "Epoch 83/100\n",
      "2/2 [==============================] - 0s 6ms/step - loss: 0.0044 - accuracy: 1.0000\n",
      "Epoch 84/100\n",
      "2/2 [==============================] - 0s 7ms/step - loss: 0.0042 - accuracy: 1.0000\n",
      "Epoch 85/100\n",
      "2/2 [==============================] - 0s 6ms/step - loss: 0.0040 - accuracy: 1.0000\n",
      "Epoch 86/100\n",
      "2/2 [==============================] - 0s 7ms/step - loss: 0.0039 - accuracy: 1.0000\n",
      "Epoch 87/100\n",
      "2/2 [==============================] - 0s 6ms/step - loss: 0.0036 - accuracy: 1.0000\n",
      "Epoch 88/100\n",
      "2/2 [==============================] - 0s 6ms/step - loss: 0.0035 - accuracy: 1.0000\n",
      "Epoch 89/100\n",
      "2/2 [==============================] - 0s 5ms/step - loss: 0.0034 - accuracy: 1.0000\n",
      "Epoch 90/100\n",
      "2/2 [==============================] - 0s 8ms/step - loss: 0.0033 - accuracy: 1.0000\n",
      "Epoch 91/100\n",
      "2/2 [==============================] - 0s 7ms/step - loss: 0.0031 - accuracy: 1.0000\n",
      "Epoch 92/100\n",
      "2/2 [==============================] - 0s 6ms/step - loss: 0.0030 - accuracy: 1.0000\n",
      "Epoch 93/100\n",
      "2/2 [==============================] - 0s 7ms/step - loss: 0.0029 - accuracy: 1.0000\n",
      "Epoch 94/100\n",
      "2/2 [==============================] - 0s 7ms/step - loss: 0.0028 - accuracy: 1.0000\n",
      "Epoch 95/100\n",
      "2/2 [==============================] - 0s 8ms/step - loss: 0.0027 - accuracy: 1.0000\n",
      "Epoch 96/100\n",
      "2/2 [==============================] - 0s 7ms/step - loss: 0.0026 - accuracy: 1.0000\n",
      "Epoch 97/100\n",
      "2/2 [==============================] - 0s 6ms/step - loss: 0.0025 - accuracy: 1.0000\n",
      "Epoch 98/100\n",
      "2/2 [==============================] - 0s 7ms/step - loss: 0.0024 - accuracy: 1.0000\n",
      "Epoch 99/100\n",
      "2/2 [==============================] - 0s 8ms/step - loss: 0.0023 - accuracy: 1.0000\n",
      "Epoch 100/100\n",
      "2/2 [==============================] - 0s 7ms/step - loss: 0.0023 - accuracy: 1.0000\n"
     ]
    },
    {
     "data": {
      "text/plain": [
       "<keras.callbacks.History at 0x23613f77e20>"
      ]
     },
     "execution_count": 17,
     "metadata": {},
     "output_type": "execute_result"
    }
   ],
   "source": [
    "callbacks = myCallback()\n",
    "classifier.fit(train_x,train_y,epochs=100, callbacks=[callbacks])"
   ]
  },
  {
   "cell_type": "markdown",
   "metadata": {},
   "source": [
    "Com isso, podemos ver que alcançamos um custo final de aproximadamente 0.39. Um gráfico mostrando o comportamento do valor do custo ao longo das epocas pode ser visto abaixo:\n"
   ]
  },
  {
   "cell_type": "code",
   "execution_count": 18,
   "metadata": {},
   "outputs": [
    {
     "data": {
      "image/png": "[encoded data removed]",
      "text/plain": [
       "<Figure size 432x288 with 1 Axes>"
      ]
     },
     "metadata": {
      "needs_background": "light"
     },
     "output_type": "display_data"
    }
   ],
   "source": [
    "fig, ax = plt.subplots()\n",
    "ax.plot(cost_history, label='Cost function')\n",
    "ax.legend()\n",
    "ax.grid(color='grey', linestyle='--', linewidth=0.6, axis='y')\n",
    "ax.set_facecolor('#FBF8D5')\n",
    "ax.set_ylabel('Cost')\n",
    "ax.set_xlabel('Epoch')\n",
    "plt.show()"
   ]
  },
  {
   "cell_type": "markdown",
   "metadata": {},
   "source": [
    "Depois do treinamento, podemos então fazer uma tentativa de previsão. Primeiro realizo o tratamento da imagem necessário para usar a função de previsão fornecida pelo keras:"
   ]
  },
  {
   "cell_type": "code",
   "execution_count": 19,
   "metadata": {},
   "outputs": [
    {
     "name": "stdout",
     "output_type": "stream",
     "text": [
      "(16, 16)\n"
     ]
    }
   ],
   "source": [
    "image = cv2.imread('test2.jpg')\n",
    "image = cv2.cvtColor(image, cv2.COLOR_BGR2GRAY)\n",
    "image = cv2.resize(image,(sizeExpected, sizeExpected))\n",
    "image = np.array(image)\n",
    "\n",
    "print(img.shape)\n",
    "image = image.reshape((1, image.shape[0], image.shape[1]))"
   ]
  },
  {
   "cell_type": "markdown",
   "metadata": {},
   "source": [
    "Então realizamos a previsão:"
   ]
  },
  {
   "cell_type": "code",
   "execution_count": 20,
   "metadata": {},
   "outputs": [
    {
     "name": "stdout",
     "output_type": "stream",
     "text": [
      "[[0. 1.]]\n",
      "Barco\n"
     ]
    }
   ],
   "source": [
    "result = classifier.predict(image)\n",
    "print(result)\n",
    "\n",
    "if(result[0][0] > result[0][1]):\n",
    "    print(\"Avião\")\n",
    "else:\n",
    "    print(\"Barco\")\n"
   ]
  }
 ],
 "metadata": {
  "interpreter": {
   "hash": "795631ca7efba5545d68920f6e1ba2e07a060d916d398e921ce54569a71c534e"
  },
  "kernelspec": {
   "display_name": "Python 3.10.2 64-bit",
   "language": "python",
   "name": "python3"
  },
  "language_info": {
   "codemirror_mode": {
    "name": "ipython",
    "version": 3
   },
   "file_extension": ".py",
   "mimetype": "text/x-python",
   "name": "python",
   "nbconvert_exporter": "python",
   "pygments_lexer": "ipython3",
   "version": "3.10.2"
  },
  "orig_nbformat": 4
 },
 "nbformat": 4,
 "nbformat_minor": 2
}
