{
 "cells": [
  {
   "cell_type": "code",
   "execution_count": 3,
   "metadata": {},
   "outputs": [
    {
     "name": "stdout",
     "output_type": "stream",
     "text": [
      "TensorFlow Version: 2.8.0\n",
      "Keras Version: 2.8.0\n"
     ]
    }
   ],
   "source": [
    "import tensorflow as tf\n",
    "import keras as K\n",
    "import numpy as np\n",
    "import os\n",
    "import cv2\n",
    "from sklearn.preprocessing import LabelEncoder, OneHotEncoder\n",
    "from sklearn.compose import ColumnTransformer\n",
    "from sklearn.utils import shuffle\n",
    "from sklearn.model_selection import train_test_split\n",
    "from keras.models import Sequential\n",
    "from keras.preprocessing import image\n",
    "from keras.preprocessing.image import load_img\n",
    "from keras.layers import Conv2D\n",
    "from keras.layers import MaxPooling2D\n",
    "from keras.layers import Flatten\n",
    "from keras.layers import Dense\n",
    "\n",
    "print(\"TensorFlow Version:\",tf.__version__)\n",
    "print(\"Keras Version:\",K.__version__)"
   ]
  },
  {
   "cell_type": "code",
   "execution_count": 4,
   "metadata": {},
   "outputs": [
    {
     "name": "stdout",
     "output_type": "stream",
     "text": [
      "['airplane1.jpg', 'airplane10.jpg', 'airplane11.jpg', 'airplane12.jpg', 'airplane13.jpg', 'airplane14.jpg', 'airplane15.jpg', 'airplane16.jpg', 'airplane17.jpg', 'airplane18.jpg', 'airplane19.jpg', 'airplane2.jpg', 'airplane20.jpg', 'airplane21.jpg', 'airplane22.jpg', 'airplane23.jpg', 'airplane24.jpg', 'airplane25.jpg', 'airplane26.jpg', 'airplane27.jpg', 'airplane28.jpg', 'airplane29.jpg', 'airplane3.jpg', 'airplane30.jpg', 'airplane31.jpg', 'airplane32.jpg', 'airplane33.jpg', 'airplane34.jpg', 'airplane35.jpg', 'airplane36.jpg', 'airplane37.jpg', 'airplane38.jpg', 'airplane39.jpg', 'airplane4.jpg', 'airplane40.jpg', 'airplane41.jpg', 'airplane42.jpg', 'airplane43.jpg', 'airplane44.jpg', 'airplane45.jpg', 'airplane46.jpg', 'airplane47.jpg', 'airplane48.jpg', 'airplane49.jpg', 'airplane5.jpg', 'airplane50.jpg', 'airplane6.jpg', 'airplane7.jpg', 'airplane8.jpg', 'airplane9.jpg']\n",
      "['1923069.jpg', '1927616.jpg', '1935958.jpg', '1935982.jpg', '1936086.jpg', '1937807.jpg', '1940395.jpg', '1942198.jpg', '1943575.jpg', '1943931.jpg', '1949407.jpg', '1951775.jpg', '1951777.jpg', '1954037.jpg', '1957229.jpg', '1958103.jpg', '1958284.jpg', '1958504.jpg', '1962341.jpg', '1972148.jpg', '1979196.jpg', '1979552.jpg', '1980440.jpg', '1982219.jpg', '1985854.jpg', '1989602.jpg', '1989612.jpg', '1991234.jpg', '1991236.jpg', '1996135.jpg', '2000408.jpg', '2002178.jpg', '2003231.jpg', '2004193.jpg', '2004538.jpg', '2005202.jpg', '2005205.jpg', '2005208.jpg', '2006104.jpg', '2007300.jpg', '2008187.jpg', '2010126.jpg', '2010303.jpg', '2010304.jpg', '2012364.jpg', '2012365.jpg', '2012366.jpg', '2012371.jpg', '2012989.jpg', '2013004.jpg']\n",
      "['airplanes', 'airplanes', 'airplanes', 'airplanes', 'airplanes', 'airplanes', 'airplanes', 'airplanes', 'airplanes', 'airplanes', 'airplanes', 'airplanes', 'airplanes', 'airplanes', 'airplanes', 'airplanes', 'airplanes', 'airplanes', 'airplanes', 'airplanes', 'airplanes', 'airplanes', 'airplanes', 'airplanes', 'airplanes', 'airplanes', 'airplanes', 'airplanes', 'airplanes', 'airplanes', 'airplanes', 'airplanes', 'airplanes', 'airplanes', 'airplanes', 'airplanes', 'airplanes', 'airplanes', 'airplanes', 'airplanes', 'airplanes', 'airplanes', 'airplanes', 'airplanes', 'airplanes', 'airplanes', 'airplanes', 'airplanes', 'airplanes', 'airplanes', 'ship', 'ship', 'ship', 'ship', 'ship', 'ship', 'ship', 'ship', 'ship', 'ship', 'ship', 'ship', 'ship', 'ship', 'ship', 'ship', 'ship', 'ship', 'ship', 'ship', 'ship', 'ship', 'ship', 'ship', 'ship', 'ship', 'ship', 'ship', 'ship', 'ship', 'ship', 'ship', 'ship', 'ship', 'ship', 'ship', 'ship', 'ship', 'ship', 'ship', 'ship', 'ship', 'ship', 'ship', 'ship', 'ship', 'ship', 'ship', 'ship', 'ship']\n",
      "[0 0 0 0 0 0 0 0 0 0 0 0 0 0 0 0 0 0 0 0 0 0 0 0 0 0 0 0 0 0 0 0 0 0 0 0 0\n",
      " 0 0 0 0 0 0 0 0 0 0 0 0 0 1 1 1 1 1 1 1 1 1 1 1 1 1 1 1 1 1 1 1 1 1 1 1 1\n",
      " 1 1 1 1 1 1 1 1 1 1 1 1 1 1 1 1 1 1 1 1 1 1 1 1 1 1]\n",
      "(80, 60, 60, 3)\n",
      "(80,)\n",
      "(20, 60, 60, 3)\n",
      "(20,)\n"
     ]
    }
   ],
   "source": [
    "vehicle_types = os.listdir('Dataset/imgs2//')\n",
    "path = 'Dataset/imgs2//'\n",
    "\n",
    "sizeExpected = 60\n",
    "\n",
    "images = []\n",
    "labels = []\n",
    "\n",
    "for i in vehicle_types:\n",
    "    data_path = path + str(i)\n",
    "    filenames = [i for i in os.listdir(data_path) if i.endswith('.jpg')]\n",
    "    print(filenames)\n",
    "    for f in filenames:\n",
    "        img = cv2.imread(data_path + '/' + f)\n",
    "        img = cv2.resize(img,(sizeExpected, sizeExpected))\n",
    "        images.append(img)\n",
    "        labels.append(i)\n",
    "\n",
    "images = np.array(images)\n",
    "images = images.astype('float32')/255\n",
    "images.shape\n",
    "\n",
    "x = images\n",
    "y = labels\n",
    "print(y)\n",
    "y_labelEncoder = LabelEncoder()\n",
    "y = y_labelEncoder.fit_transform(y)\n",
    "print(y)\n",
    "x,Y = shuffle(x,y, random_state=1)\n",
    "train_x, test_x, train_y, test_y = train_test_split(images, y, test_size=0.20, random_state=415)\n",
    "\n",
    "print(train_x.shape)\n",
    "print(train_y.shape)\n",
    "print(test_x.shape)\n",
    "print(test_y.shape)"
   ]
  },
  {
   "cell_type": "code",
   "execution_count": 5,
   "metadata": {},
   "outputs": [],
   "source": [
    "classifier = Sequential()"
   ]
  },
  {
   "cell_type": "code",
   "execution_count": 6,
   "metadata": {},
   "outputs": [],
   "source": [
    "classifier.add(Conv2D(32, (3, 3), input_shape = (60, 60, 3), activation = 'relu'))\n",
    "classifier.add(MaxPooling2D(pool_size = (2, 2)))\n",
    "classifier.add(Conv2D(32, (3, 3), activation = tf.nn.relu))\n",
    "classifier.add(MaxPooling2D(pool_size = (2, 2)))\n",
    "classifier.add(Flatten())\n",
    "classifier.add(Dense(units = 128, activation = tf.nn.relu))\n",
    "classifier.add(Dense(units = 2, activation = tf.nn.softmax))"
   ]
  },
  {
   "cell_type": "code",
   "execution_count": 7,
   "metadata": {},
   "outputs": [],
   "source": [
    "classifier.add(Flatten(input_shape=(60,60,3)))\n",
    "classifier.add(Dense(units = 128, activation = tf.nn.relu))\n",
    "classifier.add(Dense(units = 2, activation = tf.nn.softmax))"
   ]
  },
  {
   "cell_type": "code",
   "execution_count": 8,
   "metadata": {},
   "outputs": [],
   "source": [
    "classifier.compile(optimizer = 'adam', loss = 'sparse_categorical_crossentropy', metrics = ['accuracy'])"
   ]
  },
  {
   "cell_type": "code",
   "execution_count": 9,
   "metadata": {},
   "outputs": [
    {
     "name": "stdout",
     "output_type": "stream",
     "text": [
      "Epoch 1/100\n",
      "3/3 [==============================] - 1s 69ms/step - loss: 0.6921 - accuracy: 0.5250\n",
      "Epoch 2/100\n",
      "3/3 [==============================] - 0s 73ms/step - loss: 0.6837 - accuracy: 0.5250\n",
      "Epoch 3/100\n",
      "3/3 [==============================] - 0s 71ms/step - loss: 0.6722 - accuracy: 0.5500\n",
      "Epoch 4/100\n",
      "3/3 [==============================] - 0s 70ms/step - loss: 0.6587 - accuracy: 0.7875\n",
      "Epoch 5/100\n",
      "3/3 [==============================] - 0s 69ms/step - loss: 0.6617 - accuracy: 0.6250\n",
      "Epoch 6/100\n",
      "3/3 [==============================] - 0s 66ms/step - loss: 0.6286 - accuracy: 0.8125\n",
      "Epoch 7/100\n",
      "3/3 [==============================] - 0s 71ms/step - loss: 0.6072 - accuracy: 0.7750\n",
      "Epoch 8/100\n",
      "3/3 [==============================] - 0s 71ms/step - loss: 0.6149 - accuracy: 0.7875\n",
      "Epoch 9/100\n",
      "3/3 [==============================] - 0s 104ms/step - loss: 0.5955 - accuracy: 0.7375\n",
      "Epoch 10/100\n",
      "3/3 [==============================] - 0s 65ms/step - loss: 0.5438 - accuracy: 0.8750\n",
      "Epoch 11/100\n",
      "3/3 [==============================] - 0s 61ms/step - loss: 0.5107 - accuracy: 0.8750\n",
      "Epoch 12/100\n",
      "3/3 [==============================] - 0s 62ms/step - loss: 0.4829 - accuracy: 0.9000\n",
      "Epoch 13/100\n",
      "3/3 [==============================] - 0s 71ms/step - loss: 0.4549 - accuracy: 0.9125\n",
      "Epoch 14/100\n",
      "3/3 [==============================] - 0s 71ms/step - loss: 0.4307 - accuracy: 0.9125\n",
      "Epoch 15/100\n",
      "3/3 [==============================] - 0s 71ms/step - loss: 0.3916 - accuracy: 0.9375\n",
      "Epoch 16/100\n",
      "3/3 [==============================] - 0s 67ms/step - loss: 0.3541 - accuracy: 0.9750\n",
      "Epoch 17/100\n",
      "3/3 [==============================] - 0s 71ms/step - loss: 0.3236 - accuracy: 0.9875\n",
      "Epoch 18/100\n",
      "3/3 [==============================] - 0s 68ms/step - loss: 0.3248 - accuracy: 0.9625\n",
      "Epoch 19/100\n",
      "3/3 [==============================] - 0s 70ms/step - loss: 0.2820 - accuracy: 0.9875\n",
      "Epoch 20/100\n",
      "3/3 [==============================] - 0s 70ms/step - loss: 0.2640 - accuracy: 0.9750\n",
      "Epoch 21/100\n",
      "3/3 [==============================] - 0s 76ms/step - loss: 0.2257 - accuracy: 0.9875\n",
      "Epoch 22/100\n",
      "3/3 [==============================] - 0s 68ms/step - loss: 0.2145 - accuracy: 0.9875\n",
      "Epoch 23/100\n",
      "3/3 [==============================] - 0s 72ms/step - loss: 0.1944 - accuracy: 0.9875\n",
      "Epoch 24/100\n",
      "3/3 [==============================] - 0s 69ms/step - loss: 0.1827 - accuracy: 0.9875\n",
      "Epoch 25/100\n",
      "3/3 [==============================] - 0s 65ms/step - loss: 0.1741 - accuracy: 0.9750\n",
      "Epoch 26/100\n",
      "3/3 [==============================] - 0s 71ms/step - loss: 0.1511 - accuracy: 0.9875\n",
      "Epoch 27/100\n",
      "3/3 [==============================] - 0s 67ms/step - loss: 0.1238 - accuracy: 1.0000\n",
      "Epoch 28/100\n",
      "3/3 [==============================] - 0s 68ms/step - loss: 0.1130 - accuracy: 1.0000\n",
      "Epoch 29/100\n",
      "3/3 [==============================] - 0s 65ms/step - loss: 0.1015 - accuracy: 1.0000\n",
      "Epoch 30/100\n",
      "3/3 [==============================] - 0s 69ms/step - loss: 0.0922 - accuracy: 1.0000\n",
      "Epoch 31/100\n",
      "3/3 [==============================] - 0s 67ms/step - loss: 0.0847 - accuracy: 1.0000\n",
      "Epoch 32/100\n",
      "3/3 [==============================] - 0s 70ms/step - loss: 0.0778 - accuracy: 1.0000\n",
      "Epoch 33/100\n",
      "3/3 [==============================] - 0s 77ms/step - loss: 0.0719 - accuracy: 1.0000\n",
      "Epoch 34/100\n",
      "3/3 [==============================] - 0s 70ms/step - loss: 0.0664 - accuracy: 1.0000\n",
      "Epoch 35/100\n",
      "3/3 [==============================] - 0s 74ms/step - loss: 0.0612 - accuracy: 1.0000\n",
      "Epoch 36/100\n",
      "3/3 [==============================] - 0s 71ms/step - loss: 0.0567 - accuracy: 1.0000\n",
      "Epoch 37/100\n",
      "3/3 [==============================] - 0s 68ms/step - loss: 0.0527 - accuracy: 1.0000\n",
      "Epoch 38/100\n",
      "3/3 [==============================] - 0s 65ms/step - loss: 0.0490 - accuracy: 1.0000\n",
      "Epoch 39/100\n",
      "3/3 [==============================] - 0s 69ms/step - loss: 0.0458 - accuracy: 1.0000\n",
      "Epoch 40/100\n",
      "3/3 [==============================] - 0s 71ms/step - loss: 0.0428 - accuracy: 1.0000\n",
      "Epoch 41/100\n",
      "3/3 [==============================] - 0s 63ms/step - loss: 0.0401 - accuracy: 1.0000\n",
      "Epoch 42/100\n",
      "3/3 [==============================] - 0s 65ms/step - loss: 0.0377 - accuracy: 1.0000\n",
      "Epoch 43/100\n",
      "3/3 [==============================] - 0s 61ms/step - loss: 0.0355 - accuracy: 1.0000\n",
      "Epoch 44/100\n",
      "3/3 [==============================] - 0s 65ms/step - loss: 0.0334 - accuracy: 1.0000\n",
      "Epoch 45/100\n",
      "3/3 [==============================] - 0s 67ms/step - loss: 0.0316 - accuracy: 1.0000\n",
      "Epoch 46/100\n",
      "3/3 [==============================] - 0s 67ms/step - loss: 0.0299 - accuracy: 1.0000\n",
      "Epoch 47/100\n",
      "3/3 [==============================] - 0s 66ms/step - loss: 0.0283 - accuracy: 1.0000\n",
      "Epoch 48/100\n",
      "3/3 [==============================] - 0s 71ms/step - loss: 0.0269 - accuracy: 1.0000\n",
      "Epoch 49/100\n",
      "3/3 [==============================] - 0s 74ms/step - loss: 0.0255 - accuracy: 1.0000\n",
      "Epoch 50/100\n",
      "3/3 [==============================] - 0s 69ms/step - loss: 0.0243 - accuracy: 1.0000\n",
      "Epoch 51/100\n",
      "3/3 [==============================] - 0s 66ms/step - loss: 0.0231 - accuracy: 1.0000\n",
      "Epoch 52/100\n",
      "3/3 [==============================] - 0s 63ms/step - loss: 0.0221 - accuracy: 1.0000\n",
      "Epoch 53/100\n",
      "3/3 [==============================] - 0s 61ms/step - loss: 0.0211 - accuracy: 1.0000\n",
      "Epoch 54/100\n",
      "3/3 [==============================] - 0s 68ms/step - loss: 0.0202 - accuracy: 1.0000\n",
      "Epoch 55/100\n",
      "3/3 [==============================] - 0s 69ms/step - loss: 0.0193 - accuracy: 1.0000\n",
      "Epoch 56/100\n",
      "3/3 [==============================] - 0s 67ms/step - loss: 0.0185 - accuracy: 1.0000\n",
      "Epoch 57/100\n",
      "3/3 [==============================] - 0s 67ms/step - loss: 0.0177 - accuracy: 1.0000\n",
      "Epoch 58/100\n",
      "3/3 [==============================] - 0s 67ms/step - loss: 0.0170 - accuracy: 1.0000\n",
      "Epoch 59/100\n",
      "3/3 [==============================] - 0s 61ms/step - loss: 0.0164 - accuracy: 1.0000\n",
      "Epoch 60/100\n",
      "3/3 [==============================] - 0s 60ms/step - loss: 0.0157 - accuracy: 1.0000\n",
      "Epoch 61/100\n",
      "3/3 [==============================] - 0s 58ms/step - loss: 0.0151 - accuracy: 1.0000\n",
      "Epoch 62/100\n",
      "3/3 [==============================] - 0s 61ms/step - loss: 0.0146 - accuracy: 1.0000\n",
      "Epoch 63/100\n",
      "3/3 [==============================] - 0s 68ms/step - loss: 0.0141 - accuracy: 1.0000\n",
      "Epoch 64/100\n",
      "3/3 [==============================] - 0s 59ms/step - loss: 0.0136 - accuracy: 1.0000\n",
      "Epoch 65/100\n",
      "3/3 [==============================] - 0s 62ms/step - loss: 0.0131 - accuracy: 1.0000\n",
      "Epoch 66/100\n",
      "3/3 [==============================] - 0s 63ms/step - loss: 0.0126 - accuracy: 1.0000\n",
      "Epoch 67/100\n",
      "3/3 [==============================] - 0s 66ms/step - loss: 0.0122 - accuracy: 1.0000\n",
      "Epoch 68/100\n",
      "3/3 [==============================] - 0s 65ms/step - loss: 0.0118 - accuracy: 1.0000\n",
      "Epoch 69/100\n",
      "3/3 [==============================] - 0s 78ms/step - loss: 0.0114 - accuracy: 1.0000\n",
      "Epoch 70/100\n",
      "3/3 [==============================] - 0s 76ms/step - loss: 0.0111 - accuracy: 1.0000\n",
      "Epoch 71/100\n",
      "3/3 [==============================] - 0s 68ms/step - loss: 0.0107 - accuracy: 1.0000\n",
      "Epoch 72/100\n",
      "3/3 [==============================] - 0s 72ms/step - loss: 0.0104 - accuracy: 1.0000\n",
      "Epoch 73/100\n",
      "3/3 [==============================] - 0s 65ms/step - loss: 0.0101 - accuracy: 1.0000\n",
      "Epoch 74/100\n",
      "3/3 [==============================] - 0s 67ms/step - loss: 0.0098 - accuracy: 1.0000\n",
      "Epoch 75/100\n",
      "3/3 [==============================] - 0s 67ms/step - loss: 0.0095 - accuracy: 1.0000\n",
      "Epoch 76/100\n",
      "3/3 [==============================] - 0s 64ms/step - loss: 0.0092 - accuracy: 1.0000\n",
      "Epoch 77/100\n",
      "3/3 [==============================] - 0s 66ms/step - loss: 0.0090 - accuracy: 1.0000\n",
      "Epoch 78/100\n",
      "3/3 [==============================] - 0s 68ms/step - loss: 0.0087 - accuracy: 1.0000\n",
      "Epoch 79/100\n",
      "3/3 [==============================] - 0s 64ms/step - loss: 0.0085 - accuracy: 1.0000\n",
      "Epoch 80/100\n",
      "3/3 [==============================] - 0s 64ms/step - loss: 0.0082 - accuracy: 1.0000\n",
      "Epoch 81/100\n",
      "3/3 [==============================] - 0s 68ms/step - loss: 0.0080 - accuracy: 1.0000\n",
      "Epoch 82/100\n",
      "3/3 [==============================] - 0s 60ms/step - loss: 0.0078 - accuracy: 1.0000\n",
      "Epoch 83/100\n",
      "3/3 [==============================] - 0s 64ms/step - loss: 0.0076 - accuracy: 1.0000\n",
      "Epoch 84/100\n",
      "3/3 [==============================] - 0s 64ms/step - loss: 0.0074 - accuracy: 1.0000\n",
      "Epoch 85/100\n",
      "3/3 [==============================] - 0s 75ms/step - loss: 0.0072 - accuracy: 1.0000\n",
      "Epoch 86/100\n",
      "3/3 [==============================] - 0s 68ms/step - loss: 0.0070 - accuracy: 1.0000\n",
      "Epoch 87/100\n",
      "3/3 [==============================] - 0s 65ms/step - loss: 0.0069 - accuracy: 1.0000\n",
      "Epoch 88/100\n",
      "3/3 [==============================] - 0s 65ms/step - loss: 0.0067 - accuracy: 1.0000\n",
      "Epoch 89/100\n",
      "3/3 [==============================] - 0s 70ms/step - loss: 0.0065 - accuracy: 1.0000\n",
      "Epoch 90/100\n",
      "3/3 [==============================] - 0s 62ms/step - loss: 0.0064 - accuracy: 1.0000\n",
      "Epoch 91/100\n",
      "3/3 [==============================] - 0s 62ms/step - loss: 0.0062 - accuracy: 1.0000\n",
      "Epoch 92/100\n",
      "3/3 [==============================] - 0s 61ms/step - loss: 0.0061 - accuracy: 1.0000\n",
      "Epoch 93/100\n",
      "3/3 [==============================] - 0s 64ms/step - loss: 0.0060 - accuracy: 1.0000\n",
      "Epoch 94/100\n",
      "3/3 [==============================] - 0s 69ms/step - loss: 0.0058 - accuracy: 1.0000\n",
      "Epoch 95/100\n",
      "3/3 [==============================] - 0s 65ms/step - loss: 0.0057 - accuracy: 1.0000\n",
      "Epoch 96/100\n",
      "3/3 [==============================] - 0s 62ms/step - loss: 0.0056 - accuracy: 1.0000\n",
      "Epoch 97/100\n",
      "3/3 [==============================] - 0s 58ms/step - loss: 0.0054 - accuracy: 1.0000\n",
      "Epoch 98/100\n",
      "3/3 [==============================] - 0s 58ms/step - loss: 0.0053 - accuracy: 1.0000\n",
      "Epoch 99/100\n",
      "3/3 [==============================] - 0s 67ms/step - loss: 0.0052 - accuracy: 1.0000\n",
      "Epoch 100/100\n",
      "3/3 [==============================] - 0s 64ms/step - loss: 0.0051 - accuracy: 1.0000\n"
     ]
    },
    {
     "data": {
      "text/plain": [
       "<keras.callbacks.History at 0x1b17a9d31c0>"
      ]
     },
     "execution_count": 9,
     "metadata": {},
     "output_type": "execute_result"
    }
   ],
   "source": [
    "classifier.fit(train_x,train_y,epochs=100)"
   ]
  },
  {
   "cell_type": "code",
   "execution_count": 56,
   "metadata": {},
   "outputs": [
    {
     "name": "stdout",
     "output_type": "stream",
     "text": [
      "[1 1 0 0]\n"
     ]
    }
   ],
   "source": [
    "image = load_img('test1.jpg', target_size=(60,60))\n",
    "image = np.array(image)\n",
    "image = image.reshape((1, image.shape[0], image.shape[1], image.shape[2]))"
   ]
  },
  {
   "cell_type": "code",
   "execution_count": 57,
   "metadata": {},
   "outputs": [
    {
     "name": "stdout",
     "output_type": "stream",
     "text": [
      "[[0.09929305 0.90070695]]\n",
      "Cachorro\n"
     ]
    }
   ],
   "source": [
    "result = classifier.predict(image)\n",
    "print(result)\n",
    "\n",
    "if(result[0][0] > result[0][1]):\n",
    "    print(\"Gato\")\n",
    "else:\n",
    "    print(\"Cachorro\")\n"
   ]
  }
 ],
 "metadata": {
  "interpreter": {
   "hash": "795631ca7efba5545d68920f6e1ba2e07a060d916d398e921ce54569a71c534e"
  },
  "kernelspec": {
   "display_name": "Python 3.10.2 64-bit",
   "language": "python",
   "name": "python3"
  },
  "language_info": {
   "codemirror_mode": {
    "name": "ipython",
    "version": 3
   },
   "file_extension": ".py",
   "mimetype": "text/x-python",
   "name": "python",
   "nbconvert_exporter": "python",
   "pygments_lexer": "ipython3",
   "version": "3.10.2"
  },
  "orig_nbformat": 4
 },
 "nbformat": 4,
 "nbformat_minor": 2
}
